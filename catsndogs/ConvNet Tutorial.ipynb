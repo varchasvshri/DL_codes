{
 "cells": [
  {
   "cell_type": "code",
   "execution_count": 9,
   "metadata": {},
   "outputs": [
    {
     "name": "stdout",
     "output_type": "stream",
     "text": [
      "Train on 22451 samples, validate on 2495 samples\n",
      "Epoch 1/10\n",
      "22451/22451 [==============================] - 54s 2ms/sample - loss: 0.6616 - accuracy: 0.5990 - val_loss: 0.6205 - val_accuracy: 0.6697\n",
      "Epoch 2/10\n",
      "22451/22451 [==============================] - 57s 3ms/sample - loss: 0.5822 - accuracy: 0.6958 - val_loss: 0.5577 - val_accuracy: 0.7190\n",
      "Epoch 3/10\n",
      "22451/22451 [==============================] - 56s 3ms/sample - loss: 0.5233 - accuracy: 0.7410 - val_loss: 0.5101 - val_accuracy: 0.7567\n",
      "Epoch 4/10\n",
      "22451/22451 [==============================] - 52s 2ms/sample - loss: 0.4789 - accuracy: 0.7719 - val_loss: 0.5437 - val_accuracy: 0.7275\n",
      "Epoch 5/10\n",
      "22451/22451 [==============================] - 46s 2ms/sample - loss: 0.4532 - accuracy: 0.7887 - val_loss: 0.5055 - val_accuracy: 0.7663\n",
      "Epoch 6/10\n",
      "22451/22451 [==============================] - 46s 2ms/sample - loss: 0.4252 - accuracy: 0.8060 - val_loss: 0.4670 - val_accuracy: 0.7796\n",
      "Epoch 7/10\n",
      "22451/22451 [==============================] - 46s 2ms/sample - loss: 0.4044 - accuracy: 0.8182 - val_loss: 0.4749 - val_accuracy: 0.7864\n",
      "Epoch 8/10\n",
      "22451/22451 [==============================] - 53s 2ms/sample - loss: 0.3844 - accuracy: 0.8291 - val_loss: 0.5166 - val_accuracy: 0.7691\n",
      "Epoch 9/10\n",
      "22451/22451 [==============================] - 46s 2ms/sample - loss: 0.3660 - accuracy: 0.8374 - val_loss: 0.4576 - val_accuracy: 0.7912\n",
      "Epoch 10/10\n",
      "22451/22451 [==============================] - 46s 2ms/sample - loss: 0.3514 - accuracy: 0.8443 - val_loss: 0.4627 - val_accuracy: 0.7880\n"
     ]
    },
    {
     "data": {
      "text/plain": [
       "<tensorflow.python.keras.callbacks.History at 0x7fd274395f28>"
      ]
     },
     "execution_count": 9,
     "metadata": {},
     "output_type": "execute_result"
    }
   ],
   "source": [
    "import tensorflow as tf\n",
    "import numpy as np\n",
    "from tensorflow.keras.models import Sequential\n",
    "from tensorflow.keras.layers import Dense, Dropout, Activation, Flatten, Conv2D, MaxPooling2D\n",
    "import pickle\n",
    "\n",
    "x = pickle.load(open(\"x.pickle\",\"rb\"))\n",
    "y = pickle.load(open(\"y.pickle\",\"rb\"))\n",
    "y = np.array(y)\n",
    "x = x/255.0\n",
    "\n",
    "model = Sequential()\n",
    "model.add(    Conv2D(64, (3,3), input_shape = x.shape[1:])   )\n",
    "model.add(Activation(\"relu\"))\n",
    "model.add(MaxPooling2D(pool_size=(2,2)))\n",
    "\n",
    "model.add(Conv2D(64, (3,3)))\n",
    "model.add(Activation(\"relu\"))\n",
    "model.add(MaxPooling2D(pool_size=(2,2)))\n",
    "\n",
    "model.add(Flatten())\n",
    "model.add(Dense(64))\n",
    "model.add(Activation(\"relu\"))\n",
    "\n",
    "model.add(Dense(1))\n",
    "model.add(Activation('sigmoid'))\n",
    "\n",
    "model.compile(loss=\"binary_crossentropy\",\n",
    "             optimizer=\"adam\",\n",
    "             metrics=['accuracy'])\n",
    "\n",
    "model.fit(x,y, batch_size=32, epochs = 10, validation_split=0.1)\n"
   ]
  },
  {
   "cell_type": "code",
   "execution_count": null,
   "metadata": {},
   "outputs": [],
   "source": []
  }
 ],
 "metadata": {
  "kernelspec": {
   "display_name": "Python 3",
   "language": "python",
   "name": "python3"
  },
  "language_info": {
   "codemirror_mode": {
    "name": "ipython",
    "version": 3
   },
   "file_extension": ".py",
   "mimetype": "text/x-python",
   "name": "python",
   "nbconvert_exporter": "python",
   "pygments_lexer": "ipython3",
   "version": "3.6.9"
  }
 },
 "nbformat": 4,
 "nbformat_minor": 4
}
