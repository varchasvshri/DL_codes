{
  "nbformat": 4,
  "nbformat_minor": 0,
  "metadata": {
    "colab": {
      "name": "ML.ipynb",
      "provenance": [],
      "collapsed_sections": []
    },
    "kernelspec": {
      "name": "python3",
      "display_name": "Python 3"
    }
  },
  "cells": [
    {
      "cell_type": "markdown",
      "metadata": {
        "id": "xgTHW1jTc94u",
        "colab_type": "text"
      },
      "source": [
        "<table class=\"tfo-notebook-buttons\" align=\"left\">\n",
        "  <td>\n",
        "    <a target=\"_blank\" href=\"https://colab.research.google.com/github/bcs-iitk/BCS_Workshop_Apr_20/blob/master/Machine_Learning/Assignment/ML.ipynb\"><img src=\"https://www.tensorflow.org/images/colab_logo_32px.png\" />Run in Google Colab</a>\n",
        "  </td>\n",
        "  <td>\n",
        "    <a target=\"_blank\" href=\"https://github.com/bcs-iitk/BCS_Workshop_Apr_20/blob/master/Machine_Learning/Assignment/ML.ipynb\"><img src=\"https://www.tensorflow.org/images/GitHub-Mark-32px.png\" />View source on GitHub</a>\n",
        "  </td>\n",
        "  <td>\n",
        "    <a href=\"https://github.com/bcs-iitk/BCS_Workshop_Apr_20/raw/master/Machine_Learning/Assignment/ML.ipynb\"><img src=\"https://www.tensorflow.org/images/download_logo_32px.png\" />Download notebook</a>\n",
        "  </td>\n",
        "</table>"
      ]
    },
    {
      "cell_type": "code",
      "metadata": {
        "id": "BiU-x0ujcRkE",
        "colab_type": "code",
        "colab": {}
      },
      "source": [
        "# Copyright (c) 2020 Brain and Cognitive Society, IIT Kanpur [ BCS @IITK ]\n",
        "# Copyright under MIT License, must reference https://github.com/bcs-iitk/BCS_Workshop_Apr_20 if used anywhere else.\n",
        "# Author: Shashi Kant (http://shashikg.github.io/)"
      ],
      "execution_count": 0,
      "outputs": []
    },
    {
      "cell_type": "markdown",
      "metadata": {
        "id": "-6GMP27JdNG2",
        "colab_type": "text"
      },
      "source": [
        "\n",
        "\n",
        "> Note: Do not forget to click on **Copy to Drive** in Google Colab to save a copy of this assignment.\n",
        "\n",
        "![copy2drive](https://github.com/bcs-iitk/BCS_Workshop_Apr_20/raw/master/Machine_Learning/Assignment/copy2drive.png)\n",
        "\n"
      ]
    },
    {
      "cell_type": "markdown",
      "metadata": {
        "colab_type": "text",
        "id": "WVBfvzCC5TiP"
      },
      "source": [
        "## Reinforcement Learning\n",
        "In this you have to implement and train an RL agent to find a path for a frozen lake problem. "
      ]
    },
    {
      "cell_type": "markdown",
      "metadata": {
        "colab_type": "text",
        "id": "DBLEA_dS5TiO"
      },
      "source": [
        "### Frozen Lake Problem Description:"
      ]
    },
    {
      "cell_type": "markdown",
      "metadata": {
        "colab_type": "text",
        "id": "MGfQR-6R5TiN"
      },
      "source": [
        "> Imagine there is a frozen lake stretching from your home to your office; you have to walk on the frozen lake to reach your office. But oops! There are holes in the frozen lake so you have to be careful while walking on the frozen lake to avoid getting trapped in the holes. [[src](https://subscription.packtpub.com/book/big_data_and_business_intelligence/9781788836524/3/ch03lvl1sec32/solving-the-frozen-lake-problem)]\n",
        "\n",
        "![frozen-lake](https://static.packt-cdn.com/products/9781788836524/graphics/49f3e058-2f32-40e8-9992-b53d1f57d138.png)\n",
        "\n",
        "\n",
        "Two task you have to do here:\n",
        "\n",
        "*   Implement a frozen lake scenario given the inputs, number of holes (M) and size of the lake (N) (Assume the lake is square). Starting point will be (0, 0) and goal will be to reach at (N-1, N-1)\n",
        "*   Implemenat Q-learning method to learn a path from start to goal.\n",
        "*   Use the following reward scheme: 50 points on reaching the goal, -50 points on stepping on a hole.\n",
        "\n",
        "#### Q-learning\n",
        "Recall from the lecture video that `Q[state, action]` gives you an action state pair to get an optimal policy. Recall the Q-Loss from the lecture video i.e:\n",
        "> $E = ||r + \\gamma \\cdot \\max_{a'} Q(s', a') - Q(s, a)||^2$\n",
        "\n",
        "Use gradient descent to minimise $E$ and work out a learning rule for $Q(s, a)$. \n",
        "> Take $\\max_{a'} Q(s', a')$ and $r$ to be independent of $Q(s, a)$.\n"
      ]
    },
    {
      "cell_type": "markdown",
      "metadata": {
        "colab_type": "text",
        "id": "_RdKzEut5TiN"
      },
      "source": [
        "### Defining important functions"
      ]
    },
    {
      "cell_type": "code",
      "metadata": {
        "colab_type": "code",
        "id": "2JNc2whU5TiI",
        "colab": {}
      },
      "source": [
        "import numpy as np\n",
        "import matplotlib.pyplot as plt\n",
        "import copy\n",
        "import math\n",
        "import random"
      ],
      "execution_count": 0,
      "outputs": []
    },
    {
      "cell_type": "code",
      "metadata": {
        "colab_type": "code",
        "id": "oW1vCqkT5TiF",
        "colab": {}
      },
      "source": [
        "ActionMap = ['Up', 'Right', 'Down', 'Left']"
      ],
      "execution_count": 0,
      "outputs": []
    },
    {
      "cell_type": "code",
      "metadata": {
        "colab_type": "code",
        "id": "f1qyjSO85TiB",
        "colab": {}
      },
      "source": [
        "def get_board(N, M):\n",
        "  # should return an N x N size frozen lake - board with M randomle placed holes.\n",
        "  # use 'S' representation for starting point\n",
        "  # use 'G' representation for goal point\n",
        "  # use 'H' representation for holes\n",
        "  # use 'F' for frozen lakes\n",
        "  # use 'C' for displaying agents current position on the board.\n",
        "  # Refer the representation from the image shown above\n",
        "\n",
        "  # Write your code here ----------\n",
        "  board = np.chararray(N*N)\n",
        "  board[0] = 'S'\n",
        "  board[N*N - 1] = 'G'\n",
        "  for i in range(1,M+1):\n",
        "      board[i] = 'H'\n",
        "  for i in range(M+1,N*N-1):\n",
        "      board[i] = 'F'\n",
        "  np.random.shuffle(board[1:N*N-1])\n",
        "  board = np.reshape(board, (N,N))\n",
        "  # -------------------------------\n",
        "\n",
        "  return board"
      ],
      "execution_count": 0,
      "outputs": []
    },
    {
      "cell_type": "code",
      "metadata": {
        "colab_type": "code",
        "id": "aBEuHQy55Th-",
        "colab": {}
      },
      "source": [
        "def get_reward(board, N, M):\n",
        "  # should return an N x N size reward table for the generated frozen lake scenario\n",
        "  # use 50 reward for 'G' point\n",
        "  # use -50 reward for 'H' point\n",
        "  # o for rest.\n",
        "\n",
        "  # Write your code here ----------\n",
        "  rewardd = np.zeros(shape=(N,N))\n",
        "  for i in range(N):\n",
        "      for j in range(N):\n",
        "          if board[i][j]==b'H':\n",
        "              rewardd[i][j] = -50\n",
        "  rewardd[N-1][N-1] = 50\n",
        "  # -------------------------------\n",
        "\n",
        "  return rewardd"
      ],
      "execution_count": 0,
      "outputs": []
    },
    {
      "cell_type": "code",
      "metadata": {
        "colab_type": "code",
        "id": "YIOTfQtU5Th6",
        "colab": {}
      },
      "source": [
        "class FrozenLake:\n",
        "  def __init__(self, N, M):\n",
        "    # Recall python class, this function is called when you first initialise the class\n",
        "    # Should intialise the board and reward table based on the reward scheme\n",
        "    # Select M numbers of holes randomly\n",
        "\n",
        "    self.board = get_board(N, M)\n",
        "    self.init_board = copy.deepcopy(self.board)\n",
        "    self.reward = get_reward(self.board, N, M)\n",
        "    self.state = (0, 0)\n",
        "    self.finish = 0\n",
        "    self.N = N\n",
        "\n",
        "  def reset(self):\n",
        "    # should reset the env with board to initial state\n",
        "    # hint: set self.state at 0, 0 and use self.init_board to reset self.board\n",
        "\n",
        "    # Write your code here ----------\n",
        "    self.state = (0,0)\n",
        "    self.board = self.init_board\n",
        "    # -------------------------------\n",
        "    self.finish = 0\n",
        "\n",
        "    return self.state\n",
        "  \n",
        "  def step(self, action):\n",
        "    # ===== Action Table =========\n",
        "    #     0 -- UP\n",
        "    #     1 -- RIGHT\n",
        "    #     2 -- DOWN\n",
        "    #     3 -- LEFT\n",
        "    # perform the given action and get update the  self.state, get reward, and update the self.board according to new state\n",
        "    # update the self.board means update the new position with 'C' and replace previous position with {'S', 'F', 'G'} which is actually there according to the self.init_board\n",
        "    # Write your code here ----------\n",
        "    r_reward = 0\n",
        "    if action==0:\n",
        "        if self.state[0] != self.N-1:\n",
        "            \n",
        "            r_reward = self.reward[self.state[0]+1][self.state[1]]\n",
        "            self.board[self.state[0]][self.state[1]] = self.init_board[self.state[0]][self.state[1]]\n",
        "            self.board[self.state[0]+1][self.state[1]] = b'C'\n",
        "            \n",
        "            self.state = (self.state[0]+1,self.state[1])\n",
        "    if action==1:\n",
        "        if self.state[1] != self.N-1:\n",
        "        \n",
        "            r_reward = self.reward[self.state[0]][self.state[1]+1]\n",
        "            self.board[self.state[0]][self.state[1]] = self.init_board[self.state[0]][self.state[1]]\n",
        "            self.board[self.state[0]][self.state[1]+1] = b'C'\n",
        "            \n",
        "            self.state = (self.state[0],self.state[1]+1)\n",
        "    if action==2:\n",
        "        if self.state[0] != 0:\n",
        "            \n",
        "            r_reward = self.reward[self.state[0]-1][self.state[1]]\n",
        "            self.board[self.state[0]][self.state[1]] = self.init_board[self.state[0]][self.state[1]]\n",
        "            self.board[self.state[0]-1][self.state[1]] = b'C'\n",
        "            \n",
        "            self.state = (self.state[0]-1,self.state[1])\n",
        "    if action==3:\n",
        "        if self.state[1] != 0:\n",
        "            \n",
        "            r_reward = self.reward[self.state[0]][self.state[1]-1]\n",
        "            self.board[self.state[0]][self.state[1]] = self.init_board[self.state[0]][self.state[1]]\n",
        "            self.board[self.state[0]][self.state[1]-1] = b'C'\n",
        "            \n",
        "            self.state = (self.state[0],self.state[1]-1)\n",
        "    # -------------------------------\n",
        "    \n",
        "    # status to check if you reached your goal\n",
        "    if self.state == (self.N-1, self.N-1):\n",
        "        self.finish = 1\n",
        "        \n",
        "    return self.state, r_reward, self.finish\n",
        "  \n",
        "  def get_random_action(self):\n",
        "    # ===== Action Table =========\n",
        "    #     0 -- UP\n",
        "    #     1 -- RIGHT\n",
        "    #     2 -- DOWN\n",
        "    #     3 -- LEFT\n",
        "    # should return a possible random action out of the four\n",
        "    # hint: note that when you are around the corner or sides of the board not all four action will be available for you\n",
        "\n",
        "    # Write your code here ----------\n",
        "    no = random.randint(10,99999)\n",
        "    if self.state == (0,0):\n",
        "        action = no%2\n",
        "    elif self.state == (self.N-1,0):\n",
        "        if no%2 == 0:\n",
        "            action = 1\n",
        "        else:\n",
        "            action = 2\n",
        "    elif self.state == (self.N-1,self.N-1):\n",
        "        if no%2 == 0:\n",
        "            action = 2\n",
        "        else:\n",
        "            action = 3\n",
        "    elif self.state == (0,self.N-1):\n",
        "        if no%2 == 0:\n",
        "            action = 0\n",
        "        else:\n",
        "            action = 3\n",
        "    elif self.state[1] == 0:\n",
        "        action = no%3\n",
        "    elif self.state[1] == self.N-1:\n",
        "        if no%3 == 0:\n",
        "            action = 0\n",
        "        if no%3 == 1:\n",
        "            action = 2\n",
        "        else :\n",
        "            action = 3\n",
        "    elif self.state[0] == self.N-1:\n",
        "        if no%3 == 0:\n",
        "            action = 1\n",
        "        if no%3 == 1:\n",
        "            action = 2\n",
        "        else :\n",
        "            action = 3\n",
        "    elif self.state[0] == 0:\n",
        "        if no%3 == 0:\n",
        "            action = 0\n",
        "        if no%3 == 1:\n",
        "            action = 1\n",
        "        else :\n",
        "            action = 3\n",
        "    else:\n",
        "        action = no%4\n",
        "    \n",
        "    return action    \n",
        "      \n",
        "  def display(self):\n",
        "    print(self.init_board)"
      ],
      "execution_count": 0,
      "outputs": []
    },
    {
      "cell_type": "markdown",
      "metadata": {
        "colab_type": "text",
        "id": "7trU5rXV5Th5"
      },
      "source": [
        "### Environment creation and learning"
      ]
    },
    {
      "cell_type": "code",
      "metadata": {
        "colab_type": "code",
        "id": "pifNkUAK5Th0",
        "colab": {}
      },
      "source": [
        "def explore_exploit(env, Q, state, episode):\n",
        "  # Notice that if you always select your new action based on maximum Q-value you will never get to see any new path right?\n",
        "  # You have to explore the environment to know new paths\n",
        "  # Write your code here to randomly select whether you want to explore or exploit\n",
        "  # The probability of exploration should be exp(-episode*5e-4)\n",
        "  # for exploration get some random action\n",
        "  # for exploitation get action based on max Q value\n",
        "\n",
        "  # Write your code here ----------\n",
        "  prob = [0,1]\n",
        "  weights = [1-math.exp(-episode*5e-4),math.exp(-episode*5e-4)]\n",
        "  one_for_exploration = random.choices(prob, weights)\n",
        "  if one_for_exploration == [1]:\n",
        "      action1 = env.get_random_action()\n",
        "  else:\n",
        "      action1 = np.argmax(Q[state[0],state[1],:])\n",
        "\n",
        "  # -------------------------------\n",
        "\n",
        "  return action1"
      ],
      "execution_count": 0,
      "outputs": []
    },
    {
      "cell_type": "code",
      "metadata": {
        "colab_type": "code",
        "id": "G_BrXZTL5Thw",
        "colab": {}
      },
      "source": [
        "def init_env_and_learn(N=6, M=12, gamma=0.8, lr=0.8):\n",
        "  # gamma: gamma param of total discounted reward\n",
        "  # lr: learning rate for Q updates\n",
        "  # N = grid size of frozen lake wil be N x N\n",
        "  # M = Number of holes\n",
        "  # returns env, Q-function, rewards\n",
        "\n",
        "  env = FrozenLake(N, M)\n",
        "  Q = np.zeros((N, N, 4))\n",
        "\n",
        "  total_episodes = 3000 # i.e. the number of times your RL agent will run through the board.\n",
        "  max_steps = N*N*3 # maximum number of steps to perform\n",
        "\n",
        "  rewards = []\n",
        "  for episode in range(total_episodes):\n",
        "    state = env.reset()\n",
        "    total_rewards = 0\n",
        "\n",
        "    for step in range(max_steps):\n",
        "      action = explore_exploit(env, Q, state, episode)\n",
        "      \n",
        "      # Write your code here ----------------------------------------------------------\n",
        "      # Should perform the action get reward, new_state, finish status and update the Q value\n",
        "\n",
        "      new_state, rewarded, finish = env.step(action)\n",
        "      Q[state[0], state[1], action] = Q[state[0], state[1], action] + lr * (rewarded + gamma * np.max(Q[new_state[0], new_state[1], :]) - Q[state[0], state[1], action])\n",
        "      # -------------------------------------------------------------------------------\n",
        "\n",
        "      total_rewards += rewarded\n",
        "      state = new_state\n",
        "\n",
        "      if finish == 1: \n",
        "          break\n",
        "\n",
        "    rewards.append(total_rewards)\n",
        "\n",
        "  return env, Q, rewards"
      ],
      "execution_count": 0,
      "outputs": []
    },
    {
      "cell_type": "code",
      "metadata": {
        "colab_type": "code",
        "id": "2Jiex3R-5Ths",
        "colab": {}
      },
      "source": [
        "def travel_path(env, Q, N):\n",
        "  # write a function to display a sequence of path performed using the learned Q-values\n",
        "  # show initial and final frozen lake board \n",
        "  # to perform an action at a state simply take max of Q at that state\n",
        "\n",
        "    #     0 -- UP\n",
        "    #     1 -- RIGHT\n",
        "    #     2 -- DOWN\n",
        "    #     3 -- LEFT\n",
        "\n",
        "  # Write your code here ----------\n",
        "  print(env1.reward)\n",
        "  state = (0,0)\n",
        "  while state != (N-1, N-1):\n",
        "    act = np.argmax(Q[state[0],state[1],:])\n",
        "    print(ActionMap[act])\n",
        "    if act == 0:\n",
        "        new_state = (state[0]+1,state[1])\n",
        "    elif act == 1:\n",
        "        new_state = (state[0],state[1]+1)\n",
        "    elif act == 2:\n",
        "        new_state = (state[0]-1,state[1])\n",
        "    else:\n",
        "        new_state = (state[0],state[1]-1)\n",
        "    state = new_state\n",
        "  # -------------------------------\n",
        "\n",
        "  return    "
      ],
      "execution_count": 0,
      "outputs": []
    },
    {
      "cell_type": "markdown",
      "metadata": {
        "colab_type": "text",
        "id": "noLS62YS5Thq"
      },
      "source": [
        "### Use N = 6, M = 10 and learn the models for following sets of gamma and lr:\n",
        "\n",
        "*   `(gamma, lr) = (0.8, 0.8)`\n",
        "*   `(gamma, lr) = (0.95, 0.8)`\n",
        "*   `(gamma, lr) = (0.6, 0.8)`\n",
        "*   `(gamma, lr) = (0.8, 0.95)`\n",
        "*   `(gamma, lr) = (0.8, 0.1)`\n",
        "\n",
        "Plot rewards vs episode for each of them and compare.\n",
        "\n"
      ]
    },
    {
      "cell_type": "code",
      "metadata": {
        "colab_type": "code",
        "id": "3XF_ena45Thi",
        "colab": {}
      },
      "source": [
        "# Write your code here ----------\n",
        "env2, Q2, rewards2 = init_env_and_learn(N=6, M=10, gamma=0.95, lr=0.8)\n",
        "env3, Q3, rewards3 = init_env_and_learn(N=6, M=10, gamma=0.6, lr=0.8)\n",
        "env4, Q4, rewards4 = init_env_and_learn(N=6, M=10, gamma=0.8, lr=0.95)\n",
        "env5, Q5, rewards5 = init_env_and_learn(N=6, M=10, gamma=0.8, lr=0.1)\n",
        "env1, Q1, rewards1 = init_env_and_learn(N=6, M=10, gamma=0.8, lr=0.8)"
      ],
      "execution_count": 0,
      "outputs": []
    },
    {
      "cell_type": "code",
      "metadata": {
        "colab_type": "code",
        "outputId": "99cffa25-2ac4-409d-f988-47ee874e9f37",
        "id": "5CliDa525ThU",
        "colab": {
          "base_uri": "https://localhost:8080/",
          "height": 295
        }
      },
      "source": [
        "fig, axs = plt.subplots(2, 3)\n",
        "axs[0, 0].plot(rewards1)\n",
        "axs[0, 0].set_title('0.8, 0.8')\n",
        "axs[0, 1].plot(rewards2, 'tab:orange')\n",
        "axs[0, 1].set_title('0.95, 0.8')\n",
        "axs[0, 2].plot(rewards3)\n",
        "axs[0, 2].set_title('0.6, 0.8')\n",
        "axs[1, 0].plot(rewards4, 'tab:green')\n",
        "axs[1, 0].set_title('0.8, 0.95')\n",
        "axs[1, 1].plot(rewards5, 'tab:red')\n",
        "axs[1, 1].set_title('0.8, 0.1')\n",
        "\n",
        "for ax in axs.flat:\n",
        "    ax.set(xlabel='episode', ylabel='reward')\n",
        "\n",
        "for ax in axs.flat:\n",
        "    ax.label_outer()\n",
        "\n",
        "plt.show()\n",
        "# # -------------------------------\n",
        "\n",
        "print(\"Gamma = 0.8 and learning rate = 0.8 is giving the best result\")"
      ],
      "execution_count": 0,
      "outputs": [
        {
          "output_type": "display_data",
          "data": {
            "image/png": "[encoded data removed]",
            "text/plain": [
              "<Figure size 432x288 with 6 Axes>"
            ]
          },
          "metadata": {
            "tags": []
          }
        }
      ]
    },
    {
      "cell_type": "markdown",
      "metadata": {
        "colab_type": "text",
        "id": "LVxJTEMd5ThS"
      },
      "source": [
        "### Use N = 6, M = 10 and learn a models with (gamma, lr) = (0.8, 0.8)\n",
        "After learning the model, display a path traveled from source to goal."
      ]
    },
    {
      "cell_type": "code",
      "metadata": {
        "colab_type": "code",
        "outputId": "7f0103e4-188d-4d25-a1e5-4231cc678d22",
        "id": "J-iOtajD5ThC",
        "colab": {
          "base_uri": "https://localhost:8080/",
          "height": 289
        }
      },
      "source": [
        "# Write your code here ----------\n",
        "# print(env.print_board())\n",
        "travel_path(env1,Q1,N=6)\n",
        "# -------------------------------"
      ],
      "execution_count": 0,
      "outputs": [
        {
          "output_type": "stream",
          "text": [
            "[[  0. -50.   0. -50.   0.   0.]\n",
            " [  0.   0.   0.   0. -50. -50.]\n",
            " [  0.   0.   0.   0.   0.   0.]\n",
            " [-50.   0.   0.   0.   0. -50.]\n",
            " [-50.   0.   0. -50.   0.   0.]\n",
            " [  0. -50. -50.   0.   0.  50.]]\n",
            "Up\n",
            "Up\n",
            "Right\n",
            "Up\n",
            "Right\n",
            "Right\n",
            "Right\n",
            "Up\n",
            "Right\n",
            "Up\n"
          ],
          "name": "stdout"
        }
      ]
    },
    {
      "cell_type": "code",
      "metadata": {
        "colab_type": "code",
        "id": "OgtEBZg75Tgv",
        "colab": {}
      },
      "source": [
        ""
      ],
      "execution_count": 0,
      "outputs": []
    }
  ]
}